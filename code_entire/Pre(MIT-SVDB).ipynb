{
 "cells": [
  {
   "cell_type": "code",
   "execution_count": 1,
   "metadata": {},
   "outputs": [
    {
     "name": "stderr",
     "output_type": "stream",
     "text": [
      "2021-08-17 13:09:55.827870: I tensorflow/stream_executor/platform/default/dso_loader.cc:53] Successfully opened dynamic library libcudart.so.11.0\n"
     ]
    }
   ],
   "source": [
    "import matplotlib.pyplot as plt\n",
    "import wfdb\n",
    "import numpy as np\n",
    "import os \n",
    "import glob\n",
    "import pickle\n",
    "import pywt\n",
    "from sklearn import preprocessing\n",
    "from scipy import io\n",
    "from sklearn.metrics import confusion_matrix\n",
    "from scipy.signal import resample"
   ]
  },
  {
   "cell_type": "code",
   "execution_count": 2,
   "metadata": {},
   "outputs": [],
   "source": [
    "def z_score(A, lead):#输入心电图维度(lead,sample)\n",
    "    mean=np.sum(A,axis=-1).reshape(lead,1)/len(A[0])\n",
    "    B=(A-mean)**2\n",
    "    V=np.sum(B,axis=-1).reshape(lead,1)/len(B[0])\n",
    "    S=V**(1/2)\n",
    "    A=(A-mean)/S\n",
    "    return A"
   ]
  },
  {
   "cell_type": "code",
   "execution_count": 9,
   "metadata": {},
   "outputs": [],
   "source": [
    "c_t = 0.15\n",
    "fz = 128\n",
    "re_sample = 256\n",
    "\n",
    "def data_process1(i,num,begin):\n",
    "    heartbeat_signal = record_wavelet[:,signal_annotation.sample[i-1]-int(RR_mean[i]-c_t*fz)-begin:signal_annotation.sample[i+1]+int(2/3*RR_mean[i])-begin]\n",
    "    heartbeat_signal_resample = resample(heartbeat_signal,num,axis=1)\n",
    "    heartbeat_signal_resample = np.array(heartbeat_signal_resample)\n",
    "    heartbeat_signal_resample = z_score(heartbeat_signal_resample,2)\n",
    "    return heartbeat_signal_resample"
   ]
  },
  {
   "cell_type": "code",
   "execution_count": 10,
   "metadata": {},
   "outputs": [
    {
     "name": "stdout",
     "output_type": "stream",
     "text": [
      "(184261, 2, 256)\n",
      "(184261, 1)\n",
      "(184261, 2)\n"
     ]
    }
   ],
   "source": [
    "Train_ecg_data = []\n",
    "Train_label = []\n",
    "RR_Train = []\n",
    "N_label = ['N']\n",
    "S_label = ['S']\n",
    "V_label = ['V']\n",
    "F_label = ['F']\n",
    "\n",
    "file_name_list = glob.glob('./mit-bih-supraventricular-arrhythmia-database-1.0.0/*.dat')\n",
    "file_name_pure = []\n",
    "for j in range(len(file_name_list)):\n",
    "    (filename_pure,extension) = os.path.splitext(file_name_list[j])\n",
    "    file_name_pure.append(filename_pure)\n",
    "    \n",
    "for m in range(len(file_name_pure)):\n",
    "    re = os.path.split(file_name_pure[m])[1]\n",
    "    record = wfdb.rdrecord('./mit-bih-supraventricular-arrhythmia-database-1.0.0/' + str(re),physical=True,sampfrom=0,sampto=None,channels=[0,1])\n",
    "    signal_annotation = wfdb.rdann('./mit-bih-supraventricular-arrhythmia-database-1.0.0/' + str(re),'atr',sampfrom=0,sampto=None)\n",
    "\n",
    "    #手工特征\n",
    "    RR_infor = []\n",
    "    RR_index = signal_annotation.sample\n",
    "    RR = np.array(RR_index-([0]+list(RR_index))[:-1])#得到RR间期数组，第三个值开始有意义，即索引为2\n",
    "    RR_diff1 = np.array(RR-([0]+list(RR))[:-1])#得到RR间期的一阶差分,索引为3代表第3个R波前后的间期差分\n",
    "    \n",
    "    RR_diff1 = np.array((list(RR_diff1)+[0])[1:])#将diff1变成于RR对应的索引\n",
    "    RR_nor=(RR-np.min(RR[3:-3]))/(np.max(RR[3:-3])-np.min(RR[3:-3]))\n",
    "    RR_diff1_nor = (RR_diff1-np.min(RR_diff1[3:-3]))/(np.max(RR_diff1[3:-3])-np.min(RR_diff1[3:-3]))\n",
    "    RR_infor.append(RR_nor)\n",
    "    RR_infor.append(RR_diff1_nor)\n",
    "    RR_infor = np.array(RR_infor)\n",
    "    \n",
    "    RR_expand = [0]*5+list(RR)+[0]*6\n",
    "    RR_mean = []\n",
    "    for k in range(len(RR)-1):\n",
    "        RR_part_mean = (np.sum(RR_expand[k:k+11])-np.min(RR_expand[k:k+11]))/10\n",
    "        RR_mean.append(RR_part_mean)\n",
    "    RR_mean = np.array(RR_mean)\n",
    "\n",
    "    record_wavelet = []\n",
    "    for n in range(len(record.p_signal[1])):\n",
    "        coeffs = pywt.wavedec(record.p_signal[:,n], 'coif4', level=8)\n",
    "        #置0第10尺度近似分量\n",
    "        coeffs[-9:-8] = np.zeros_like(coeffs[-9:-8])\n",
    "        coeffs[-3:-2] = np.zeros_like(coeffs[-3:-2])\n",
    "        coeffs[-2:-1] = np.zeros_like(coeffs[-2:-1])\n",
    "        coeffs[-1:] = np.zeros_like(coeffs[-1:])\n",
    "        ECG_new2 = pywt.waverec(coeffs, 'coif4')\n",
    "        ECG_new2 = ECG_new2.flatten()\n",
    "        record_wavelet.append(ECG_new2)\n",
    "    record_wavelet = np.array(record_wavelet)\n",
    "    \n",
    "    for i in range(2,len(signal_annotation.sample)-1):\n",
    "\n",
    "        if signal_annotation.symbol[i] in N_label:\n",
    "            Train_ecg_data.append(data_process1(i,re_sample,0))\n",
    "            Train_label.append([0])\n",
    "            RR_Train.append(RR_infor[:,i])\n",
    "        if signal_annotation.symbol[i] in S_label:            \n",
    "            Train_ecg_data.append(data_process1(i,re_sample,0))\n",
    "            Train_label.append([1])\n",
    "            RR_Train.append(RR_infor[:,i])\n",
    "        if signal_annotation.symbol[i] in V_label:\n",
    "            Train_ecg_data.append(data_process1(i,re_sample,0))\n",
    "            Train_label.append([2])\n",
    "            RR_Train.append(RR_infor[:,i])\n",
    "        if signal_annotation.symbol[i] in F_label:\n",
    "            Train_ecg_data.append(data_process1(i,re_sample,0))\n",
    "            Train_label.append([3])\n",
    "            RR_Train.append(RR_infor[:,i])\n",
    "\n",
    "Train_ecg_data = np.array(Train_ecg_data) \n",
    "Train_label = np.array(Train_label)\n",
    "RR_Train = np.array(RR_Train)\n",
    "\n",
    "print(Train_ecg_data.shape)\n",
    "print(Train_label.shape)\n",
    "print(RR_Train.shape)"
   ]
  },
  {
   "cell_type": "code",
   "execution_count": 11,
   "metadata": {},
   "outputs": [
    {
     "name": "stdout",
     "output_type": "stream",
     "text": [
      "(184261, 2, 256)\n",
      "(184261, 1)\n",
      "(184261, 2)\n"
     ]
    }
   ],
   "source": [
    "with open('./train_data_svdb.txt', \"wb\") as text1:\n",
    "    pickle.dump(Train_ecg_data,text1)\n",
    "with open('./train_label_svdb.txt', \"wb\") as text2:\n",
    "    pickle.dump(Train_label,text2)\n",
    "with open('./train_RR_svdb.txt', \"wb\") as text3:\n",
    "    pickle.dump(RR_Train,text3)\n",
    "\n",
    "with open('./train_data_svdb.txt', \"rb\") as text4:\n",
    "    Train_ecg_data = pickle.load(text4)\n",
    "with open('./train_label_svdb.txt', \"rb\") as text5:\n",
    "    Train_label = pickle.load(text5)\n",
    "with open('./train_RR_svdb.txt', \"rb\") as text6:\n",
    "    RR_Train = pickle.load(text6)\n",
    "\n",
    "print(Train_ecg_data.shape)\n",
    "print(Train_label.shape)\n",
    "print(RR_Train.shape)"
   ]
  },
  {
   "cell_type": "code",
   "execution_count": 13,
   "metadata": {},
   "outputs": [
    {
     "name": "stdout",
     "output_type": "stream",
     "text": [
      "162123\n",
      "12182\n",
      "9933\n",
      "23\n"
     ]
    }
   ],
   "source": [
    "N_=0\n",
    "S_=0\n",
    "V_=0\n",
    "F_=0\n",
    "for i in range(len(Train_ecg_data)):\n",
    "    if Train_label[i]==0:\n",
    "        N_+=1\n",
    "    if Train_label[i]==1:\n",
    "        S_+=1\n",
    "    if Train_label[i]==2:\n",
    "        V_+=1\n",
    "    if Train_label[i]==3:\n",
    "        F_+=1\n",
    "print(N_)\n",
    "print(S_)\n",
    "print(V_)\n",
    "print(F_)"
   ]
  }
 ],
 "metadata": {
  "kernelspec": {
   "display_name": "Python 3 (ipykernel)",
   "language": "python",
   "name": "python3"
  },
  "language_info": {
   "codemirror_mode": {
    "name": "ipython",
    "version": 3
   },
   "file_extension": ".py",
   "mimetype": "text/x-python",
   "name": "python",
   "nbconvert_exporter": "python",
   "pygments_lexer": "ipython3",
   "version": "3.8.10"
  }
 },
 "nbformat": 4,
 "nbformat_minor": 2
}
